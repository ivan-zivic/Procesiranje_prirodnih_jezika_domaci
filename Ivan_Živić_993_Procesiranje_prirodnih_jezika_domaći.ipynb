{
 "cells": [
  {
   "cell_type": "markdown",
   "id": "advisory-acting",
   "metadata": {},
   "source": [
    "- Ivan Živić 993\n",
    "- Zadatak br. 1"
   ]
  },
  {
   "cell_type": "code",
   "execution_count": 1,
   "id": "raising-protocol",
   "metadata": {},
   "outputs": [],
   "source": [
    "import nltk\n",
    "import timeit"
   ]
  },
  {
   "cell_type": "markdown",
   "id": "offshore-commander",
   "metadata": {},
   "source": [
    "Rečenice koje će se koristiti za testiranje parsera"
   ]
  },
  {
   "cell_type": "code",
   "execution_count": 2,
   "id": "extreme-massachusetts",
   "metadata": {},
   "outputs": [],
   "source": [
    "test_sent_1 = 'John is eating a donut'\n",
    "test_sent_2 = 'John likes donuts'\n",
    "test_sent_3 = ' John is walking at the park'\n",
    "test_sent_4 = 'He is afraid of monkeys'\n",
    "test_sent_5 = ' John prefers a morning flight'\n",
    "test_sent_6 = 'John is leaving from Belgrade'\n",
    "test_sent_7 = 'John practices volleyball on Thursday'\n",
    "test_sent_8 = 'I leave Belgrade in the morning'"
   ]
  },
  {
   "cell_type": "markdown",
   "id": "immune-roman",
   "metadata": {},
   "source": [
    "### <center>Recursive descent parser</center>"
   ]
  },
  {
   "cell_type": "markdown",
   "id": "comparative-burke",
   "metadata": {},
   "source": [
    "**Recursive descent** parser vrši parsiranje metodom \"grube sile\", odozgo nadole (eng. **top-down**) krećući se od startnog simbola gramatike ka terminalnim čvorovima. U toku generisanja stabla, algoritam \"isprobava\" sve moguće kombinacije (otud i naziv **recursive**). Upravo je iz ovog razloga algoritam sporiji, ali na izlazu daje sva moguća sintaksna stabla za jedan ulazni niz terminalnih simbola (rečenicu). "
   ]
  },
  {
   "cell_type": "markdown",
   "id": "sorted-consolidation",
   "metadata": {},
   "source": [
    "Gramatika navedena ispod definisana je u fajlu pod nazivom **grammar_file_1.cfg**\n",
    "\n",
    "- S -> N PRE\n",
    "- PRE -> V N | VP PP | VP NP | V NP | V N PP\n",
    "- N -> PRP | \"John\" | \"donuts\" | \"volleyball\" | \"Thursday\" | \"Belgrade\" | \"park\" | \"monkeys\" | \"donut\" | \"flight\" | \"morning\"\n",
    "- NP -> Det N | Det ADJ N\n",
    "- V -> \"likes\" | \"practices\" | \"leaving\" | \"walking\" | \"afraid\" | \"eating\" | \"prefers\" | \"leave\"\n",
    "- VP -> Aux V\n",
    "- Aux -> \"is\"\n",
    "- PP -> IN N | IN NP\n",
    "- IN -> \"on\" | \"from\" | \"at\" | \"of\" | \"in\"\n",
    "- Det -> \"the\" | \"a\"\n",
    "- PRP -> \"He\" | \"I\"\n",
    "- ADJ -> \"morning\""
   ]
  },
  {
   "cell_type": "markdown",
   "id": "elect-lancaster",
   "metadata": {},
   "source": [
    "#### <center>Osvrt na kreiranu gramatiku</center>\n",
    "\n",
    "- **S** je startni simbol gramatike. Pravilo **S -> N PRE** ukazuje na to da se rečenica sastoji od imenice **N** koja igra ulogu subjekta u rečenici i predikta **PRE**.\n",
    "- **PRE** je predikat u rečenici i u svim navedenim primerima dolazi iza subjekta. Dalje, predikat je moguće rastaviti na glagol odnosno imenicu (pravilo **PRE -> V N**). U ovom slučaju glagol (**V**) igra ulogu samog predikta, odnosno glavnog \"akcionog\" glagola dok **N** koje dolazi iza **V** igra ulogu objekta. Pravilo **PRE -> VP PP** uvedeno je zbog potrebe da predikat na početku sadrži glagolsku frazu (**VP**), a u nastavku imensku frazu (ili samo imenicu) kojoj prethodi predlog (npr. **VP** je **is leaving** a **PP** je **from Belgrade**). Pravilo **PRE -> VP NP** uvedeno je zbog potrebe da se u okviru predikta prvo nađe glagolska a zatim i imenska fraza (npr. **VP** je **is eating**, a **NP** je **a donut**). Pravilo **PRE -> V NP** uvedeno je zbog rečenica kod kojih predikat počinje glagolom, a zatim se nastavlja imenskom frazom (npr. **V** je **prefers**, a **NP** je **a morning flight**). Pravilo **PRE -> V N PP** uvedeno je zbog rečenica čiji predikat najpre počinje glagolom, zatim sledi imenica, a na kraju ide predlog uz imenicu ili imensku frazu (npr. **V** je **practices**, **N** je **volleyball**, a **PP** je **on Thursday**).\n",
    "- Neterminal **V** igra ulogu \"glavnog\" glagola (eng. **verb**).\n",
    "- Neterminal **N** igra ulonu imenice (eng. **noun**).\n",
    "- Neterminal **Aux** (eng. **auxiliary**) igra ulogu pomoćnog glagola (dodaje se ispred glavnog glagola da bi formirali glagolsku frazu).\n",
    "- **VP** predstavlja glagolsku frazu koja se sastoji od pomoćnog glagola (predstavljenog neterminalom **Aux**) i glavnog, \"akcionog\" glagola (**VP -> Aux V**).\n",
    "- **NP** je imenska fraza. Imenska fraza se sastoji od člana, određenog ili neodređenog (članovi su predstavljeni neterminalom **Det**), atributa (**ADJ**, koji nije obavezan) i imenice. Pravila: **NP -> Det N**, odnosno **Det ADJ N**.\n",
    "- Neterminal **PP** se preslikava u predlog (predstavljen neterminalom **IN**) i imensku frazu ili samo imenicu. Pravila: **PP -> IN N**, odnosno **IN NP**.\n",
    "- Neterminalom **IN** predstavljeni su predlozi (**on**, **from**, **at**, **of** i **in**).\n",
    "- Neterminal **ADJ** (od eng. **adjective**) predstavlja prideve.\n",
    "- Neterminalom **PRP** predstavljene su zamenice (**He** i **I**).\n",
    "- Neterminalom **Det** (od eng. **determiners**) predstavljeni su u ovom slučaju samo određeni i neodređeni članovi **a** i **the**."
   ]
  },
  {
   "cell_type": "markdown",
   "id": "abandoned-guinea",
   "metadata": {},
   "source": [
    "Pozivom funkcije **load**, koja je definisana u **nltk.data** modulu, učitava se zadata gramatika. Fajl koji sadrži gramatiku, prosleđuje se kao argument funkciji."
   ]
  },
  {
   "cell_type": "code",
   "execution_count": 3,
   "id": "moderate-shannon",
   "metadata": {},
   "outputs": [],
   "source": [
    "grammar_1 = nltk.data.load('file:grammar_file_1.cfg')"
   ]
  },
  {
   "cell_type": "markdown",
   "id": "japanese-being",
   "metadata": {},
   "source": [
    "Pri instanciranju **RecursiveDescentParser klase**, konstruktoru iste se prosleđuje objekat koji sadrži učitanu gramatiku."
   ]
  },
  {
   "cell_type": "code",
   "execution_count": 4,
   "id": "intensive-extraction",
   "metadata": {},
   "outputs": [],
   "source": [
    "rd_parser = nltk.RecursiveDescentParser(grammar_1)"
   ]
  },
  {
   "cell_type": "markdown",
   "id": "senior-karma",
   "metadata": {},
   "source": [
    "Pri parsiranju rečenice **John is eating a donut**, algoritam **Recursive descent** dolazi od startnog simbola gramatike **S** do terminalnih čvorova na sledeći način, primenom sledećih smena u navedenom redosledu:\n",
    "\n",
    "- S -> N PRE\n",
    "- S -> N VP NP \n",
    "- S -> N VP Det N\n",
    "- S -> N VP Det donut\n",
    "- S -> N VP a donut\n",
    "- S -> N Aux V a donut\n",
    "- S -> N Aux eating a donut\n",
    "- S -> N is eating a donut\n",
    "- S -> John is eating a donut"
   ]
  },
  {
   "cell_type": "code",
   "execution_count": 5,
   "id": "desirable-measurement",
   "metadata": {},
   "outputs": [
    {
     "name": "stdout",
     "output_type": "stream",
     "text": [
      "               S                     \n",
      "  _____________|_____                 \n",
      " |                  PRE              \n",
      " |         __________|_______         \n",
      " |        VP                 NP      \n",
      " |     ___|____           ___|____    \n",
      " N   Aux       V        Det       N  \n",
      " |    |        |         |        |   \n",
      "John  is     eating      a      donut\n",
      "\n"
     ]
    }
   ],
   "source": [
    "for tree in rd_parser.parse(test_sent_1.split()):\n",
    "    tree.pretty_print()"
   ]
  },
  {
   "cell_type": "markdown",
   "id": "preliminary-interstate",
   "metadata": {},
   "source": [
    "Pri parsiranju rečenice **John likes donuts** algoritam **Recursive descent** dolazi od startnog simbola gramatike **S** do terminalnih čvorova na sledeći način, primenom sledećih smena u navedenom redosledu:\n",
    "\n",
    "- S -> N PRE\n",
    "- S -> N V N\n",
    "- S -> N V donuts\n",
    "- S -> N likes donuts\n",
    "- S -> John likes donuts\n"
   ]
  },
  {
   "cell_type": "code",
   "execution_count": 6,
   "id": "dense-service",
   "metadata": {},
   "outputs": [
    {
     "name": "stdout",
     "output_type": "stream",
     "text": [
      "       S             \n",
      "  _____|____          \n",
      " |         PRE       \n",
      " |      ____|____     \n",
      " N     V         N   \n",
      " |     |         |    \n",
      "John likes     donuts\n",
      "\n"
     ]
    }
   ],
   "source": [
    "for tree in rd_parser.parse(test_sent_2.split()):\n",
    "    tree.pretty_print()"
   ]
  },
  {
   "cell_type": "markdown",
   "id": "english-wesley",
   "metadata": {},
   "source": [
    "Pri parsiranju rečenice **John is walking at the park** algoritam **Recursive descent** dolazi od startnog simbola gramatike **S** do terminalnih čvorova na sledeći način, primenom sledećih smena u navedenom redosledu:\n",
    "\n",
    "- S -> N PRE\n",
    "- S -> N VP PP\n",
    "- S -> N VP IN NP\n",
    "- S -> N VP IN Det N\n",
    "- S -> N VP IN Det park\n",
    "- S -> N VP IN the park\n",
    "- S -> N VP at the park\n",
    "- S -> N Aux V at the park\n",
    "- S -> N Aux walking at the park\n",
    "- S -> N is wakling at the park\n",
    "- S -> John is walking at the park\n"
   ]
  },
  {
   "cell_type": "code",
   "execution_count": 7,
   "id": "useful-spring",
   "metadata": {},
   "outputs": [
    {
     "name": "stdout",
     "output_type": "stream",
     "text": [
      "                S                    \n",
      "  ______________|_____                \n",
      " |                   PRE             \n",
      " |         ___________|___            \n",
      " |        |               PP         \n",
      " |        |            ___|___        \n",
      " |        VP          |       NP     \n",
      " |     ___|_____      |    ___|___    \n",
      " N   Aux        V     IN Det      N  \n",
      " |    |         |     |   |       |   \n",
      "John  is     walking  at the     park\n",
      "\n"
     ]
    }
   ],
   "source": [
    "for tree in rd_parser.parse(test_sent_3.split()):\n",
    "    tree.pretty_print()"
   ]
  },
  {
   "cell_type": "markdown",
   "id": "lined-adaptation",
   "metadata": {},
   "source": [
    "Pri parsiranju rečenice **He is afraid of monkeys** algoritam **Recursive descent** dolazi od startnog simbola gramatike **S** do terminalnih čvorova na sledeći način, primenom sledećih smena u navedenom redosledu:\n",
    "\n",
    "- S -> N PRE\n",
    "- S -> N VP PP\n",
    "- S -> N VP IN N\n",
    "- S -> N VP IN monkeys\n",
    "- S -> N VP of monkeys\n",
    "- S -> N Aux V of monkeys\n",
    "- S -> N Aux afraid of monkeys\n",
    "- S -> N is afraid of monkeys\n",
    "- S -> PRP is afraid of monkeys\n",
    "- S -> He is afraid of monkeys"
   ]
  },
  {
   "cell_type": "code",
   "execution_count": 8,
   "id": "instant-margin",
   "metadata": {},
   "outputs": [
    {
     "name": "stdout",
     "output_type": "stream",
     "text": [
      "              S                       \n",
      "  ____________|_____                   \n",
      " |                 PRE                \n",
      " |        __________|_______           \n",
      " N       VP                 PP        \n",
      " |    ___|____           ___|_____     \n",
      "PRP Aux       V         IN        N   \n",
      " |   |        |         |         |    \n",
      " He  is     afraid      of     monkeys\n",
      "\n"
     ]
    }
   ],
   "source": [
    "for tree in rd_parser.parse(test_sent_4.split()):\n",
    "    tree.pretty_print()"
   ]
  },
  {
   "cell_type": "markdown",
   "id": "annoying-founder",
   "metadata": {},
   "source": [
    "Pri parsiranju rečenice **John prefers a morning flight** algoritam **Recursive descent** dolazi od startnog simbola gramatike **S** do terminalnih čvorova na sledeći način, primenom sledećih smena u navedenom redosledu:\n",
    "\n",
    "- S -> N PRE\n",
    "- S -> N V NP\n",
    "- S -> N V Det ADJ N\n",
    "- S -> N V Det ADJ flight\n",
    "- S -> N V Det morning flight\n",
    "- S -> N V a morning flight\n",
    "- S -> N prefers a morning flight\n",
    "- S -> John prefers a morning flight"
   ]
  },
  {
   "cell_type": "code",
   "execution_count": 9,
   "id": "classical-identifier",
   "metadata": {},
   "outputs": [
    {
     "name": "stdout",
     "output_type": "stream",
     "text": [
      "              S                    \n",
      "  ____________|___                  \n",
      " |               PRE               \n",
      " |       _________|_____            \n",
      " |      |               NP         \n",
      " |      |      _________|______     \n",
      " N      V    Det       ADJ     N   \n",
      " |      |     |         |      |    \n",
      "John prefers  a      morning flight\n",
      "\n"
     ]
    }
   ],
   "source": [
    "for tree in rd_parser.parse(test_sent_5.split()):\n",
    "    tree.pretty_print()"
   ]
  },
  {
   "cell_type": "markdown",
   "id": "stock-compatibility",
   "metadata": {},
   "source": [
    "Pri parsiranju rečenice **John is leaving from Blegrade** algoritam **Recursive descent** dolazi od startnog simbola gramatike **S** do terminalnih čvorova na sledeći način, primenom sledećih smena u navedenom redosledu:\n",
    "\n",
    "- S -> N PRE\n",
    "- S -> N VP PP\n",
    "- S -> N VP IN N\n",
    "- S -> N VP IN Belgrade\n",
    "- S -> N VP from Belgrade\n",
    "- S -> N Aux V from Belgrade\n",
    "- S -> N Aux leaving from Belgrade\n",
    "- S -> N is leaving from Belgrade\n",
    "- S -> John is leaving from Belgrade\n"
   ]
  },
  {
   "cell_type": "code",
   "execution_count": 10,
   "id": "temporal-blink",
   "metadata": {},
   "outputs": [
    {
     "name": "stdout",
     "output_type": "stream",
     "text": [
      "                S                         \n",
      "  ______________|_____                     \n",
      " |                   PRE                  \n",
      " |         ___________|________            \n",
      " |        VP                   PP         \n",
      " |     ___|_____           ____|_____      \n",
      " N   Aux        V         IN         N    \n",
      " |    |         |         |          |     \n",
      "John  is     leaving     from     Belgrade\n",
      "\n"
     ]
    }
   ],
   "source": [
    "for tree in rd_parser.parse(test_sent_6.split()):\n",
    "    tree.pretty_print()"
   ]
  },
  {
   "cell_type": "markdown",
   "id": "russian-stopping",
   "metadata": {},
   "source": [
    "Pri parsiranju rečenice **John practices a volleyball on Thursday** algoritam **Recursive descent** dolazi od startnog simbola gramatike **S** do terminalnih čvorova na sledeći način, primenom sledećih smena u navedenom redosledu:\n",
    "\n",
    "- S -> N PRE\n",
    "- S -> N V N PP\n",
    "- S -> N V N IN N\n",
    "- S -> N V N IN Thursday\n",
    "- S -> N V N on Thursday\n",
    "- S -> N V volleyball on Thursday\n",
    "- S -> N practices volleyball on Thursday\n",
    "- S -> John practices volleyball on Thursday"
   ]
  },
  {
   "cell_type": "code",
   "execution_count": 11,
   "id": "burning-temperature",
   "metadata": {},
   "outputs": [
    {
     "name": "stdout",
     "output_type": "stream",
     "text": [
      "         S                                \n",
      "  _______|_________                        \n",
      " |                PRE                     \n",
      " |        _________|___________            \n",
      " |       |         |           PP         \n",
      " |       |         |        ___|_____      \n",
      " N       V         N       IN        N    \n",
      " |       |         |       |         |     \n",
      "John practices volleyball  on     Thursday\n",
      "\n"
     ]
    }
   ],
   "source": [
    "for tree in rd_parser.parse(test_sent_7.split()):\n",
    "    tree.pretty_print()"
   ]
  },
  {
   "cell_type": "markdown",
   "id": "relevant-shooting",
   "metadata": {},
   "source": [
    "Pri parsiranju rečenice **I leave Belgrade in the morning** algoritam **Recursive descent** dolazi od startnog simbola gramatike **S** do terminalnih čvorova na sledeći način, primenom sledećih smena u navedenom redosledu:\n",
    "\n",
    "- S -> N PRE\n",
    "- S -> N V N PP\n",
    "- S -> N V N IN NP\n",
    "- S -> N V N IN Det N\n",
    "- S -> N V N IN Det morning\n",
    "- S -> N V N IN the morning\n",
    "- S -> N V N in the morning\n",
    "- S -> N V Belgrade in the morning\n",
    "- S -> N leave Belgrade in the morning\n",
    "- S -> PRP leave Belgrade in the morning\n",
    "- S -> I leave Belgrade in the morning"
   ]
  },
  {
   "cell_type": "code",
   "execution_count": 12,
   "id": "announced-bowling",
   "metadata": {},
   "outputs": [
    {
     "name": "stdout",
     "output_type": "stream",
     "text": [
      "             S                        \n",
      "  ___________|______                   \n",
      " |                 PRE                \n",
      " |     _____________|___               \n",
      " |    |      |          PP            \n",
      " |    |      |       ___|___           \n",
      " N    |      |      |       NP        \n",
      " |    |      |      |    ___|_____     \n",
      "PRP   V      N      IN Det        N   \n",
      " |    |      |      |   |         |    \n",
      " I  leave Belgrade  in the     morning\n",
      "\n"
     ]
    }
   ],
   "source": [
    "for tree in rd_parser.parse(test_sent_8.split()):\n",
    "    tree.pretty_print()"
   ]
  },
  {
   "cell_type": "markdown",
   "id": "appointed-trust",
   "metadata": {},
   "source": [
    "### <center>Shift reduce parser</center>"
   ]
  },
  {
   "cell_type": "markdown",
   "id": "solved-reaction",
   "metadata": {},
   "source": [
    "- Ukoliko se primeni gramatika koja je definisana za **Recursive descent** parser, i isti primeni na 7. odnosno 8. rečenici, nećemo dobiti nijedan izlaz. \n",
    "- Ukoliko za pomenute rečenice iskortistimo gramatiku koja je navedena u ćeliji ispod i koja je proširena pravilom **S -> S PP**, dobićemo izlaz.\n",
    "- Sa druge strane, gramatiku definisanu u ćeliji ispod ne možemo upotrebiti za **Recursive descent** algoritam, upravo zbog dodatog pravila koje je rekurzivne prirode, tako da će algoritam prilikom pokušaja da izgeneriše stablo ući u beskonačnu petlju."
   ]
  },
  {
   "cell_type": "markdown",
   "id": "common-tobago",
   "metadata": {},
   "source": [
    "Gramatika navedena ispod definisana je u fajlu pod nazivom **grammar_file_2.cfg**\n",
    "\n",
    "- S -> N PRE | S PP\n",
    "- PRE -> V N | VP PP | VP NP | V NP | V N PP\n",
    "- N -> PRP | \"John\" | \"donuts\" | \"volleyball\" | \"Thursday\" | \"Belgrade\" | \"park\" | \"monkeys\" | \"donut\" | \"flight\" | \"morning\"\n",
    "- NP -> Det N | Det ADJ N\n",
    "- V -> \"likes\" | \"practices\" | \"leaving\" | \"walking\" | \"afraid\" | \"eating\" | \"prefers\" | \"leave\"\n",
    "- VP -> Aux V\n",
    "- Aux -> \"is\"\n",
    "- PP -> IN N | IN NP\n",
    "- IN -> \"on\" | \"from\" | \"at\" | \"of\" | \"in\"\n",
    "- Det -> \"the\" | \"a\"\n",
    "- PRP -> \"He\" | \"I\"\n",
    "- ADJ -> \"morning\"\n"
   ]
  },
  {
   "cell_type": "code",
   "execution_count": 13,
   "id": "comfortable-speed",
   "metadata": {},
   "outputs": [],
   "source": [
    "grammar_2 = nltk.data.load('file:grammar_file_2.cfg')"
   ]
  },
  {
   "cell_type": "markdown",
   "id": "grand-feature",
   "metadata": {},
   "source": [
    "Ukoliko definišemo gramatiku tako da sadrži pravila **N -> \"morning\"** i **ADJ -> \"morning\"** (za čim svakako postoji potreba, budući da se reč **morning** u rečenici sa rednim brojem 5 javlja kao pridev, a u rečenici sa rednim brojem 8 kao imenica), u ćeliji ispod možemo videti da nas **Shift reduce** parser upozorava da neće primeniti pravilo **N -> \"morning\"**. Međutim posledice ovako definisane gramatike nećemo videti sve dok ne probamo da parsiramo rečenicu sa rednim brojem 5."
   ]
  },
  {
   "cell_type": "code",
   "execution_count": 14,
   "id": "decreased-refrigerator",
   "metadata": {},
   "outputs": [
    {
     "name": "stdout",
     "output_type": "stream",
     "text": [
      "Warning: N -> 'morning' will never be used\n"
     ]
    }
   ],
   "source": [
    "sr_parser = nltk.ShiftReduceParser(grammar_2)"
   ]
  },
  {
   "cell_type": "markdown",
   "id": "unexpected-education",
   "metadata": {},
   "source": [
    "Koraci koje preduzima **Shift reduce** algoritam pri parsiranju rečenice **John is eating a donut**. Poziv algoritma na izvršenje obavljen je u ćeliji ispod.\n",
    "\n",
    "| No. | Stek | Ulazni niz terminala  | Redukcija / šiftovanje |\n",
    "| --- | :--- | :---: | :--- |\n",
    "| 1 | **START** | John is eating a donut | SHIFT |\n",
    "| 2 | **START** John | is eating a donut | N -> John |\n",
    "| 3 | **START** N | is eating a donut | SHIFT |\n",
    "| 4 | **START** N is | eating a donut | aux -> is |\n",
    "| 5 | **START** N Aux | eating a donut | SHIFT |\n",
    "| 6 | **START** N Aux eating | a donut | V -> eating |\n",
    "| 7 | **START** N Aux V | a donut | VP -> Aux V |\n",
    "| 8 | **START** N VP | a donut | SHIFT |\n",
    "| 9 | **START** N VP a | donut | Det -> a |\n",
    "| 10 | **START** N VP Det | donut | SHIFT |\n",
    "| 11 | **START** N VP Det donut | ... | N -> donut |\n",
    "| 12 | **START** N VP Det N | ... | NP -> Det N |\n",
    "| 13 | **START** N VP NP | ... | PRE -> VP NP |\n",
    "| 14 | **START** N PRE | ... | S -> N PRE |\n",
    "| 15 | **START** S | ... | acc |\n"
   ]
  },
  {
   "cell_type": "code",
   "execution_count": 15,
   "id": "native-floating",
   "metadata": {},
   "outputs": [
    {
     "name": "stdout",
     "output_type": "stream",
     "text": [
      "               S                     \n",
      "  _____________|_____                 \n",
      " |                  PRE              \n",
      " |         __________|_______         \n",
      " |        VP                 NP      \n",
      " |     ___|____           ___|____    \n",
      " N   Aux       V        Det       N  \n",
      " |    |        |         |        |   \n",
      "John  is     eating      a      donut\n",
      "\n"
     ]
    }
   ],
   "source": [
    "for tree in sr_parser.parse(test_sent_1.split()):\n",
    "    tree.pretty_print()"
   ]
  },
  {
   "cell_type": "markdown",
   "id": "buried-eligibility",
   "metadata": {},
   "source": [
    "Koraci koje preduzima **Shift reduce** algoritam pri parsiranju rečenice sa rednim brojem **John likes donuts**. Poziv algoritma na izvršenje obavljen je u ćeliji ispod.\n",
    "\n",
    "| No. | Stek | Ulazni niz terminala  | Redukcija / šiftovanje |\n",
    "| --- | :--- | :---: | :--- |\n",
    "| 1 | **START** | John likes donuts | SHIFT |\n",
    "| 2 | **START** John | likes donuts | N -> John |\n",
    "| 3 | **START** N | likes donuts | SHIFT |\n",
    "| 4 | **START** N likes | donuts | V -> likes |\n",
    "| 5 | **START** N V | donuts | SHIFT |\n",
    "| 6 | **START** N V donuts | ... | N -> donuts |\n",
    "| 7 | **START** N V N | ... | PRE -> V N |\n",
    "| 8 | **START** N PRE | ... | S -> N PRE |"
   ]
  },
  {
   "cell_type": "code",
   "execution_count": 16,
   "id": "noted-action",
   "metadata": {},
   "outputs": [
    {
     "name": "stdout",
     "output_type": "stream",
     "text": [
      "       S             \n",
      "  _____|____          \n",
      " |         PRE       \n",
      " |      ____|____     \n",
      " N     V         N   \n",
      " |     |         |    \n",
      "John likes     donuts\n",
      "\n"
     ]
    }
   ],
   "source": [
    "for tree in sr_parser.parse(test_sent_2.split()):\n",
    "    tree.pretty_print()"
   ]
  },
  {
   "cell_type": "markdown",
   "id": "accurate-subject",
   "metadata": {},
   "source": [
    "Koraci koje preduzima **Shift reduce** algoritam pri parsiranju rečenice sa rednim brojem **John is walking at the park**. Poziv algoritma na izvršenje obavljen je u ćeliji ispod.\n",
    "\n",
    "\n",
    "| No. | Stek | Ulazni niz terminala  | Redukcija / šiftovanje |\n",
    "| --- | :--- | :---: | :--- |\n",
    "| 1 | **START** | John is walking at the park | SHIFT |\n",
    "| 2 | **START** John | is walking at the park | N -> John |\n",
    "| 3 | **START** N | is walking at the park | SHIFT |\n",
    "| 4 | **START** N is | walking at the park | aux -> is |\n",
    "| 5 | **START** N Aux | walking at the park | SHIFT |\n",
    "| 6 | **START** N Aux walking | at the park | V -> walking |\n",
    "| 7 | **START** N Aux V | at the park | VP -> Aux V |\n",
    "| 8 | **START** N VP | at the park | SHIFT |\n",
    "| 9 | **START** N VP at | the park | IN -> at |\n",
    "| 10 | **START** N VP IN | the park | SHIFT |\n",
    "| 11 | **START** N VP IN the | park | Det -> the |\n",
    "| 12 | **START** N VP IN Det | park | SHIFT |\n",
    "| 13 | **START** N VP IN Det park | ... | N -> park |\n",
    "| 14 | **START** N VP IN Det N | ... | NP -> Det N |\n",
    "| 15 | **START** N VP IN NP | ... | PP -> IN NP |\n",
    "| 16 | **START** N VP PP | ... | PRE -> VP PP |\n",
    "| 17 | **START** N PRE | ... | S -> N PRE |\n",
    "| 18 | **START** S | ... | acc |"
   ]
  },
  {
   "cell_type": "code",
   "execution_count": 17,
   "id": "furnished-spotlight",
   "metadata": {},
   "outputs": [
    {
     "name": "stdout",
     "output_type": "stream",
     "text": [
      "                S                    \n",
      "  ______________|_____                \n",
      " |                   PRE             \n",
      " |         ___________|___            \n",
      " |        |               PP         \n",
      " |        |            ___|___        \n",
      " |        VP          |       NP     \n",
      " |     ___|_____      |    ___|___    \n",
      " N   Aux        V     IN Det      N  \n",
      " |    |         |     |   |       |   \n",
      "John  is     walking  at the     park\n",
      "\n"
     ]
    }
   ],
   "source": [
    "for tree in sr_parser.parse(test_sent_3.split()):\n",
    "    tree.pretty_print()"
   ]
  },
  {
   "cell_type": "markdown",
   "id": "violent-familiar",
   "metadata": {},
   "source": [
    "Koraci koje preduzima **Shift reduce** algoritam pri parsiranju rečenice sa rednim brojem **He is afraid of monkeys**. Poziv algoritma na izvršenje obavljen je u ćeliji ispod.\n",
    "\n",
    "| No. | Stek | Ulazni niz terminala  | Redukcija / šiftovanje |\n",
    "| --- | :--- | :---: | :--- |\n",
    "| 1 | **START** | He is afraid of monkeys | SHIFT |\n",
    "| 2 | **START** He | is afraid of monkeys | PRP -> He |\n",
    "| 3 | **START** PRP | is afraid of monkeys | N -> PRP |\n",
    "| 4 | **START** N | is afraid of monkeys | SHIFT |\n",
    "| 5 | **START** N is | afraid of monkeys | aux -> is |\n",
    "| 6 | **START** N Aux | afraid of monkeys | SHIFT |\n",
    "| 7 | **START** N Aux afraid | of monkeys | V -> afraid |\n",
    "| 8 | **START** N Aux V | of monkeys | VP -> Aux V |\n",
    "| 9 | **START** N VP | of monkeys | SHIFT |\n",
    "| 10 | **START** N VP of | monkeys | IN -> of |\n",
    "| 12 | **START** N VP IN | monkeys | SHIFT |\n",
    "| 13 | **START** N VP IN monkeys | ... | N -> monkeys |\n",
    "| 14 | **START** N VP IN N | ... | PP -> IN N |\n",
    "| 15 | **START** N VP PP | ... | PRE -> VP PP |\n",
    "| 16 | **START** N PRE | ... | S -> N PRE |\n",
    "| 17 | **START** S | ... | acc |"
   ]
  },
  {
   "cell_type": "code",
   "execution_count": 18,
   "id": "formed-stress",
   "metadata": {},
   "outputs": [
    {
     "name": "stdout",
     "output_type": "stream",
     "text": [
      "              S                       \n",
      "  ____________|_____                   \n",
      " |                 PRE                \n",
      " |        __________|_______           \n",
      " N       VP                 PP        \n",
      " |    ___|____           ___|_____     \n",
      "PRP Aux       V         IN        N   \n",
      " |   |        |         |         |    \n",
      " He  is     afraid      of     monkeys\n",
      "\n"
     ]
    }
   ],
   "source": [
    "for tree in sr_parser.parse(test_sent_4.split()):\n",
    "    tree.pretty_print()"
   ]
  },
  {
   "cell_type": "markdown",
   "id": "intense-herald",
   "metadata": {},
   "source": [
    "Ukoliko probamo da parsiramo rečenicu **John prefers a morning flight**, pomoću kreiranog **Shift reduce** parsera, na osnovu gramatike učitane iz fajla **grammar_file_2.cfg** u promenljivu **grammar_2**, iako nas je parser upozorio da neće koristiti pravilo **N -> \"morning\"**, izgleda da on u suštini ne koristi pravilo **ADJ -> \"morning\"**. Do ovakvog zaključka sam došao budući da parser ne može da navedenu rečenicu, budući da kod prikazan u ćeliji ispod ne daje nijedan izlaz."
   ]
  },
  {
   "cell_type": "code",
   "execution_count": 19,
   "id": "early-theater",
   "metadata": {},
   "outputs": [],
   "source": [
    "for tree in sr_parser.parse(test_sent_5.split()):\n",
    "    tree.pretty_print()"
   ]
  },
  {
   "cell_type": "markdown",
   "id": "racial-closure",
   "metadata": {},
   "source": [
    "Međutim, ukoliko preuredimo gramatiku koja je sadržana u promenljivoj **grammar_2**, tako da sada ne sadrži pravilo **N -> \"morning\"**, kao što je učinjeno u ćeliji ispod, možemo videti da će se parser sada \"snaći\" sa rečenicom **John prefers a morning flight**."
   ]
  },
  {
   "cell_type": "markdown",
   "id": "essential-cleaner",
   "metadata": {},
   "source": [
    "Gramatika navedena ispod definisana je u fajlu pod nazivom **grammar_file_3.cfg**\n",
    "\n",
    "- S -> N PRE | S PP\n",
    "- PRE -> V N | VP PP | VP NP | V NP | V N PP\n",
    "- N -> PRP | \"John\" | \"donuts\" | \"volleyball\" | \"Thursday\" | \"Belgrade\" | \"park\" | \"monkeys\" | \"donut\" | \"flight\"\n",
    "- NP -> Det N | Det ADJ N\n",
    "- V -> \"likes\" | \"practices\" | \"leaving\" | \"walking\" | \"afraid\" | \"eating\" | \"prefers\" | \"leave\"\n",
    "- VP -> Aux V\n",
    "- Aux -> \"is\"\n",
    "- PP -> IN N | IN NP\n",
    "- IN -> \"on\" | \"from\" | \"at\" | \"of\" | \"in\"\n",
    "- Det -> \"the\" | \"a\"\n",
    "- PRP -> \"He\" | \"I\"\n",
    "- ADJ -> \"morning\"\n"
   ]
  },
  {
   "cell_type": "markdown",
   "id": "disciplinary-numbers",
   "metadata": {},
   "source": [
    "Kreiranje novog objekta koji predstavlja gramatiku jezika na osnovu gramatike koja je definisana u fajlu **grammar_file_3.cfg**"
   ]
  },
  {
   "cell_type": "code",
   "execution_count": 20,
   "id": "written-hygiene",
   "metadata": {},
   "outputs": [],
   "source": [
    "grammar_3 = nltk.data.load('file:grammar_file_3.cfg')"
   ]
  },
  {
   "cell_type": "markdown",
   "id": "close-studio",
   "metadata": {},
   "source": [
    "Kreiranje novog **Shift reduce** parsera na osnovu novokreiranog objekta gramatike."
   ]
  },
  {
   "cell_type": "code",
   "execution_count": 21,
   "id": "prescribed-escape",
   "metadata": {},
   "outputs": [],
   "source": [
    "sr_parser = nltk.ShiftReduceParser(grammar_3)"
   ]
  },
  {
   "cell_type": "markdown",
   "id": "compatible-turner",
   "metadata": {},
   "source": [
    "Imajući u vidu da je gramatika sada preuređena, **Shift reduce** parser se sada \"snalazi\" sa rečenicom **John prefers a morning flight** (u ovoj rečenici reč **morning** je pridev **ADJ**). "
   ]
  },
  {
   "cell_type": "markdown",
   "id": "grave-pursuit",
   "metadata": {},
   "source": [
    "Koraci koje preduzima **Shift reduce** algoritam pri parsiranju rečenice **John prefers a morning flight**. Poziv algoritma na izvršenje obavljen je u ćeliji ispod.\n",
    "\n",
    "| No. | Stek | Ulazni niz terminala  | Redukcija / šiftovanje |\n",
    "| --- | :--- | :---: | :--- |\n",
    "| 1 | **START** | John prefers a morning flight | SHIFT |\n",
    "| 2 | **START** John | prefers a morning flight | SHIFT |\n",
    "| 3 | **START** N | prefers a morning flight | SHIFT |\n",
    "| 4 | **START** N prefers | a morning flight | V -> prefers |\n",
    "| 5 | **START** N V | a morning flight | SHIFT |\n",
    "| 6 | **START** N V a | morning flight | Det -> a |\n",
    "| 7 | **START** N V Det | morning flight | SHIFT |\n",
    "| 8 | **START** N V Det morning | flight | ADJ -> morning |\n",
    "| 9 | **START** N V Det ADJ | flight | SHIFT |\n",
    "| 10 | **START** N V Det ADJ flight | ... | N -> flight |\n",
    "| 11 | **START** N V Det ADJ N | ... | NP -> Det ADJ N |\n",
    "| 12 | **START** N V NP | ... | PRE -> V NP |\n",
    "| 13 | **START** N PRE | ... | S -> N PRE |\n",
    "| 14 | **START** S | ... | acc |"
   ]
  },
  {
   "cell_type": "code",
   "execution_count": 22,
   "id": "duplicate-charles",
   "metadata": {},
   "outputs": [
    {
     "name": "stdout",
     "output_type": "stream",
     "text": [
      "              S                    \n",
      "  ____________|___                  \n",
      " |               PRE               \n",
      " |       _________|_____            \n",
      " |      |               NP         \n",
      " |      |      _________|______     \n",
      " N      V    Det       ADJ     N   \n",
      " |      |     |         |      |    \n",
      "John prefers  a      morning flight\n",
      "\n"
     ]
    }
   ],
   "source": [
    "for tree in sr_parser.parse(test_sent_5.split()):\n",
    "    tree.pretty_print()"
   ]
  },
  {
   "cell_type": "markdown",
   "id": "mysterious-sight",
   "metadata": {},
   "source": [
    "Koraci koje preduzima **Shift reduce** algoritam pri parsiranju rečenice **John is leaving from Belgrade**. Poziv algoritma na izvršenje obavljen je u ćeliji ispod.\n",
    "\n",
    "| No. | Stek | Ulazni niz terminala  | Redukcija / šiftovanje |\n",
    "| --- | :--- | :---: | :--- |\n",
    "| 1 | **START** | John is leaving from Belgrade | SHIFT |\n",
    "| 2 | **START** John | is leaving from Belgrade | N -> John |\n",
    "| 3 | **START** N | is leaving from Belgrade | SHIFT |\n",
    "| 4 | **START** N is | leaving from Belgrade | aux -> is |\n",
    "| 5 | **START** N Aux | leaving from Belgrade | SHIFT |\n",
    "| 6 | **START** N Aux leaving | from Belgrade | V -> leaving |\n",
    "| 7 | **START** N Aux V | from Belgrade | VP -> Aux V |\n",
    "| 8 | **START** N VP | from Belgrade | SHIFT |\n",
    "| 9 | **START** N VP from | Belgrade | IN -> from |\n",
    "| 10 | **START** N VP IN | Belgrade | SHIFT |\n",
    "| 11 | **START** N VP IN Belgrade | ... | N -> Belgrade |\n",
    "| 12 | **START** N VP IN N | ... | PP -> IN N |\n",
    "| 13 | **START** N VP PP | ... | PRE -> VP PP |\n",
    "| 14 | **START** N PRE | ... | S -> N PRE |\n",
    "| 15 | **START** S | ... | acc |\n"
   ]
  },
  {
   "cell_type": "code",
   "execution_count": 23,
   "id": "compliant-fellowship",
   "metadata": {},
   "outputs": [
    {
     "name": "stdout",
     "output_type": "stream",
     "text": [
      "                S                         \n",
      "  ______________|_____                     \n",
      " |                   PRE                  \n",
      " |         ___________|________            \n",
      " |        VP                   PP         \n",
      " |     ___|_____           ____|_____      \n",
      " N   Aux        V         IN         N    \n",
      " |    |         |         |          |     \n",
      "John  is     leaving     from     Belgrade\n",
      "\n"
     ]
    }
   ],
   "source": [
    "for tree in sr_parser.parse(test_sent_6.split()):\n",
    "    tree.pretty_print()"
   ]
  },
  {
   "cell_type": "markdown",
   "id": "perfect-adventure",
   "metadata": {},
   "source": [
    "Koraci koje preduzima **Shift reduce** algoritam pri parsiranju rečenice **John practices volleyball on Thursday**. Poziv algoritma na izvršenje obavljen je u ćeliji ispod.\n",
    "\n",
    "Pokušaj da se iskoristi gramatika definisana za **Recursive descent** algoritam (gramatika sadržana u promenljivoj **grammar_1**):\n",
    "\n",
    "| No. | Stek | Ulazni niz terminala  | Redukcija / šiftovanje |\n",
    "| --- | :--- | :---: | :--- |\n",
    "| 1 | **START** | John practices volleyball on Thursday | SHIFT |\n",
    "| 2 | **START** John | practices volleyball on Thursday | N -> John |\n",
    "| 3 | **START** N | practices volleyball on Thursday | SHIFT |\n",
    "| 4 | **START** N practices | volleyball on Thursday | V -> practices |\n",
    "| 5 | **START** N V | volleyball on Thursday | SHIFT |\n",
    "| 6 | **START** N V volleyball | on Thursday | N -> volleyball |\n",
    "| 7 | **START** N V N | on Thursday | PRE -> V N |\n",
    "| 8 | **START** N PRE | on Thursday | SHIFT |\n",
    "| 9 | **START** S | on Thursday | SHIFT |\n",
    "| 10 | **START** S on | Thursday | IN -> on |\n",
    "| 11 | **START** S IN | Thursday | SHIFT |\n",
    "| 12 | **START** S IN Thursday | ... | N -> Thursday |\n",
    "| 13 | **START** S IN N | ... | PP -> IN N |\n",
    "| 14 | **START** S PP | ... | ... |\n",
    "\n",
    "Ovde će se algoritam zaustaviti, budući da je ulazni niz terminalnih simbola prazan, a stek i dalje sadrži elemente. Međutim, ukoliko uvedemo pravilo **S -> S PP** koje je \"pogubno\" za **Recursive descent** algoritam, omogućićemo **Shift reduce** algoritmu da izvrši parsiranje. \n",
    "\n",
    "Uvođenjem pravila **S -> S PP**, kao što je to učinjeno u gramatikama sadržanim u promenljivama **grammar_2** i **grammar_3**, prevazilazimo ovaj problem.\n",
    "\n",
    "| No. | Stek | Ulazni niz terminala  | Redukcija / šiftovanje |\n",
    "| --- | :--- | :---: | :--- |\n",
    "| 15 | **START** S PP | ... | S -> S PP |\n",
    "| 16 | **START** S | ... | acc |\n"
   ]
  },
  {
   "cell_type": "code",
   "execution_count": 24,
   "id": "pleased-violence",
   "metadata": {},
   "outputs": [
    {
     "name": "stdout",
     "output_type": "stream",
     "text": [
      "                       S                      \n",
      "          _____________|___________            \n",
      "         S                         |          \n",
      "  _______|______                   |           \n",
      " |             PRE                 PP         \n",
      " |        ______|______         ___|_____      \n",
      " N       V             N       IN        N    \n",
      " |       |             |       |         |     \n",
      "John practices     volleyball  on     Thursday\n",
      "\n"
     ]
    }
   ],
   "source": [
    "for tree in sr_parser.parse(test_sent_7.split()):\n",
    "    tree.pretty_print()"
   ]
  },
  {
   "cell_type": "markdown",
   "id": "reliable-metadata",
   "metadata": {},
   "source": [
    "**U rečenici **John prefers a morning flight**, reč **morning** predstavlja pridev, dok u rečenici **I leave Belgrade in the morning** predstavlja imenicu. Ukoliko iskoristimo gramatiku na način kako je navedena u promenljivoj pod nazivom **grammar_2**, **Shift reduce** parser neće uspeti da parsira rečenicu **I leave Belgrade in the morning**, budući da pomenuti parser, za razliku od **Recursive descent** parsera ne dozvoljava da se navedu dva pravila: **ADJ -> \"morning\"** i **N -> \"morning\"**. Ukoliko želimo da parser uspe da parsira rečenicu sa rednim brojem 8, moraćemo da eliminišemo pravilo **ADJ -> \"morning\"** i dodamo pravilo **N -> \"morning\"**, kao što je prikazano u ćeliji ispod u promenljivoj pod nazivom **grammar_4** u koju je učitana gramatika navedena u fajlu **grammar_file_4.cfg**."
   ]
  },
  {
   "cell_type": "markdown",
   "id": "interstate-hacker",
   "metadata": {},
   "source": [
    "- S -> N PRE | S PP\n",
    "- PRE -> V N | VP PP | VP NP | V NP | V N PP\n",
    "- N -> PRP | \"John\" | \"donuts\" | \"volleyball\" | \"Thursday\" | \"Belgrade\" | \"park\" | \"monkeys\" | \"donut\" | \"flight\" | \"morning\"\n",
    "- NP -> Det N | Det ADJ N\n",
    "- V -> \"likes\" | \"practices\" | \"leaving\" | \"walking\" | \"afraid\" | \"eating\" | \"prefers\" | \"leave\"\n",
    "- VP -> Aux V\n",
    "- Aux -> \"is\"\n",
    "- PP -> IN N | IN NP\n",
    "- IN -> \"on\" | \"from\" | \"at\" | \"of\" | \"in\"\n",
    "- Det -> \"the\" | \"a\"\n",
    "- PRP -> \"He\" | \"I\""
   ]
  },
  {
   "cell_type": "code",
   "execution_count": 25,
   "id": "numerical-browser",
   "metadata": {},
   "outputs": [],
   "source": [
    "grammar_4 = nltk.data.load('file:grammar_file_4.cfg')"
   ]
  },
  {
   "cell_type": "code",
   "execution_count": 26,
   "id": "earlier-particle",
   "metadata": {},
   "outputs": [],
   "source": [
    "sr_parser = nltk.ShiftReduceParser(grammar_4)"
   ]
  },
  {
   "cell_type": "markdown",
   "id": "recovered-rolling",
   "metadata": {},
   "source": [
    "Koraci koje preduzima **Shift reduce** algoritam pri parsiranju rečenice **I leave Belgrade in the morning**. Poziv algoritma na izvršenje obavljen je u ćeliji ispod.\n",
    "\n",
    "| No. | Stek | Ulazni niz terminala  | Redukcija / šiftovanje |\n",
    "| --- | :--- | :---: | :--- |\n",
    "| 1 | **START** | I leave Belgrade in the morning | SHIFT |\n",
    "| 2 | **START** I | leave Belgrade in the morning | PRP -> I |\n",
    "| 3 | **START** PRP | leave Belgrade in the morning | N -> PRP |\n",
    "| 4 | **START** N | leave Belgrade in the morning | SHIFT |\n",
    "| 5 | **START** N leave | Belgrade in the morning | V -> leave |\n",
    "| 6 | **START** N V | Belgrade in the morning | SHIFT |\n",
    "| 7 | **START** N V Belgrade | in the morning | N -> Belgrade |\n",
    "| 8 | **START** N V N | in the morning | PRE -> V N |\n",
    "| 9 | **START** N PRE | in the morning | S -> N PRE |\n",
    "| 10 | **START** S | in the morning | SHIFT |\n",
    "| 11 | **START** S in | the morning | IN -> in |\n",
    "| 12 | **START** S IN | the morning | SHIFT |\n",
    "| 13 | **START** S IN the | morning | Det -> the |\n",
    "| 14 | **START** S IN Det | morning | SHIFT |\n",
    "| 15 | **START** S IN Det morning | ... | N -> morning |\n",
    "| 16 | **START** S IN Det N | ... | NP -> Det N |\n",
    "| 17 | **START** S IN NP | ... | PP -> IN NP |\n",
    "| 18 | **START** S PP | ... | S -> S PP |\n",
    "| 19 | **START** S | ... | acc |"
   ]
  },
  {
   "cell_type": "code",
   "execution_count": 27,
   "id": "pretty-phoenix",
   "metadata": {},
   "outputs": [
    {
     "name": "stdout",
     "output_type": "stream",
     "text": [
      "                 S                        \n",
      "       __________|__________               \n",
      "      S                     PP            \n",
      "  ____|____              ___|___           \n",
      " N        PRE           |       NP        \n",
      " |     ____|_____       |    ___|_____     \n",
      "PRP   V          N      IN Det        N   \n",
      " |    |          |      |   |         |    \n",
      " I  leave     Belgrade  in the     morning\n",
      "\n"
     ]
    }
   ],
   "source": [
    "for tree in sr_parser.parse(test_sent_8.split()):\n",
    "    tree.pretty_print()"
   ]
  },
  {
   "cell_type": "markdown",
   "id": "limited-people",
   "metadata": {},
   "source": [
    "### <center>Merenje vremena za koje algoritmi Recursive descent i Shift reduce vrše parsiranje</center>"
   ]
  },
  {
   "cell_type": "markdown",
   "id": "going-iceland",
   "metadata": {},
   "source": [
    "- Za potrebe merenja vremena parsiranja koje vrše algoritmi **Recursive descent** i **Shift reduce** algoritmi upotrebljena je biblioteka **timeit**. U ovoj biblioteci definisana je klasa pod nazivom **Timer**, čijem se konstruktoru prosleđuje **closure** definisan u ćeliji ispod. Spoljna funkcija **closure**-a prihvata dva argumenta. Prvi argument je parser objekat, a drugi argument je rečenica koju želimo parsirati. **Closure** kao povratnu vrednost vraća unutrašnju funkciju (nazvanu **inner_fun**) koja pri pozivu može da koristi oba argumenta prosleđena spoljašnjoj funkciji (**timer_fun**).\n",
    "- U unutrašnjoj funkciji **closure-a** poziva se **parse** metoda prosleđenog parsera, a \"promenljiva odbacivanja\" u **for** petlji i **pass** u telu iste se koriste da se jednostavno ne štampaju stabla kao izlazi (iako su stabla kreirana), da bi se na izlazu prikazalo samo vreme parsiranja **for _ in parser_obj.parse(test_sent.parse())**.\n",
    "- Pri merenju vremena parsiranja svake zadate test rečenice, **timeit** metodi objekta **Timer** prosleđuje se kao argument broj koji predstavlja koliko puta treba pozvati unutrašnju funkciju **closure**-a na izvršenje. Ovo se obavlja iz razloga što objektivnijeg merenja parsiranja iste rečenice. Naime, parsiranje iste rečenice potrebno je izvršiti veći broj puta (u konkretnim primerima po 1000 puta) i sva dobijena vremena usrednjiti u cilju dobijanja prosečnog vremena parsiranja iste test rečenice.\n",
    "- Ispod svake ćelije u kojoj se poziva **timeit** metoda **Timer** objekta na izvršenje, prikazano je prosečno vreme parsiranja svake test rečenice."
   ]
  },
  {
   "cell_type": "code",
   "execution_count": 28,
   "id": "intended-sweden",
   "metadata": {},
   "outputs": [],
   "source": [
    "def timer_fun(parser_obj, test_sent):\n",
    "    def inner_fun():\n",
    "        for _ in parser_obj.parse(test_sent.split()):\n",
    "            pass\n",
    "    return inner_fun"
   ]
  },
  {
   "cell_type": "markdown",
   "id": "varied-pacific",
   "metadata": {},
   "source": [
    "Najpre se vrši merenje vremena parsiranja test rečenica **Recursive descent** algoritmom. Prosečno vreme parsiranja prikazano ispod svake ćelije dato je u sekundama."
   ]
  },
  {
   "cell_type": "code",
   "execution_count": 29,
   "id": "compatible-encyclopedia",
   "metadata": {},
   "outputs": [],
   "source": [
    "rd_parser = nltk.RecursiveDescentParser(grammar_1)"
   ]
  },
  {
   "cell_type": "code",
   "execution_count": 30,
   "id": "featured-evening",
   "metadata": {},
   "outputs": [
    {
     "data": {
      "text/plain": [
       "2.1582741829988663"
      ]
     },
     "execution_count": 30,
     "metadata": {},
     "output_type": "execute_result"
    }
   ],
   "source": [
    "t = timeit.Timer(timer_fun(rd_parser, test_sent_1))\n",
    "t.timeit(1000)"
   ]
  },
  {
   "cell_type": "code",
   "execution_count": 31,
   "id": "fifteen-moses",
   "metadata": {},
   "outputs": [
    {
     "data": {
      "text/plain": [
       "1.8763854619974154"
      ]
     },
     "execution_count": 31,
     "metadata": {},
     "output_type": "execute_result"
    }
   ],
   "source": [
    "t = timeit.Timer(timer_fun(rd_parser, test_sent_2))\n",
    "t.timeit(1000)"
   ]
  },
  {
   "cell_type": "code",
   "execution_count": 32,
   "id": "welcome-diagnosis",
   "metadata": {},
   "outputs": [
    {
     "data": {
      "text/plain": [
       "2.879163794001215"
      ]
     },
     "execution_count": 32,
     "metadata": {},
     "output_type": "execute_result"
    }
   ],
   "source": [
    "t = timeit.Timer(timer_fun(rd_parser, test_sent_3))\n",
    "t.timeit(1000)"
   ]
  },
  {
   "cell_type": "code",
   "execution_count": 33,
   "id": "common-throw",
   "metadata": {},
   "outputs": [
    {
     "data": {
      "text/plain": [
       "2.4716990380002244"
      ]
     },
     "execution_count": 33,
     "metadata": {},
     "output_type": "execute_result"
    }
   ],
   "source": [
    "t = timeit.Timer(timer_fun(rd_parser, test_sent_4))\n",
    "t.timeit(1000)"
   ]
  },
  {
   "cell_type": "code",
   "execution_count": 34,
   "id": "social-liabilities",
   "metadata": {},
   "outputs": [
    {
     "data": {
      "text/plain": [
       "2.289547421998577"
      ]
     },
     "execution_count": 34,
     "metadata": {},
     "output_type": "execute_result"
    }
   ],
   "source": [
    "t = timeit.Timer(timer_fun(rd_parser, test_sent_5))\n",
    "t.timeit(1000)"
   ]
  },
  {
   "cell_type": "code",
   "execution_count": 35,
   "id": "distributed-religious",
   "metadata": {},
   "outputs": [
    {
     "data": {
      "text/plain": [
       "2.3738096079978277"
      ]
     },
     "execution_count": 35,
     "metadata": {},
     "output_type": "execute_result"
    }
   ],
   "source": [
    "t = timeit.Timer(timer_fun(rd_parser, test_sent_6))\n",
    "t.timeit(1000)"
   ]
  },
  {
   "cell_type": "code",
   "execution_count": 36,
   "id": "diagnostic-klein",
   "metadata": {},
   "outputs": [
    {
     "data": {
      "text/plain": [
       "2.506304458998784"
      ]
     },
     "execution_count": 36,
     "metadata": {},
     "output_type": "execute_result"
    }
   ],
   "source": [
    "t = timeit.Timer(timer_fun(rd_parser, test_sent_7))\n",
    "t.timeit(1000)"
   ]
  },
  {
   "cell_type": "code",
   "execution_count": 37,
   "id": "sound-louis",
   "metadata": {},
   "outputs": [
    {
     "data": {
      "text/plain": [
       "3.6081442210015666"
      ]
     },
     "execution_count": 37,
     "metadata": {},
     "output_type": "execute_result"
    }
   ],
   "source": [
    "t = timeit.Timer(timer_fun(rd_parser, test_sent_8))\n",
    "t.timeit(1000)"
   ]
  },
  {
   "cell_type": "markdown",
   "id": "infinite-consultation",
   "metadata": {},
   "source": [
    "Dalje se vrši merenje vremena parsiranja zadatih test rečenica **Shift reduce** algoritmom i računanje prosečnog vremena parsiranja za svaku zadatu rečenicu ponaosob."
   ]
  },
  {
   "cell_type": "code",
   "execution_count": 38,
   "id": "convertible-season",
   "metadata": {},
   "outputs": [
    {
     "name": "stdout",
     "output_type": "stream",
     "text": [
      "Warning: N -> 'morning' will never be used\n"
     ]
    }
   ],
   "source": [
    "sr_parser = nltk.ShiftReduceParser(grammar_2)"
   ]
  },
  {
   "cell_type": "code",
   "execution_count": 39,
   "id": "fifteen-tolerance",
   "metadata": {},
   "outputs": [
    {
     "data": {
      "text/plain": [
       "0.25146391700036475"
      ]
     },
     "execution_count": 39,
     "metadata": {},
     "output_type": "execute_result"
    }
   ],
   "source": [
    "t = timeit.Timer(timer_fun(sr_parser, test_sent_1))\n",
    "t.timeit(1000)"
   ]
  },
  {
   "cell_type": "code",
   "execution_count": 40,
   "id": "significant-standard",
   "metadata": {},
   "outputs": [
    {
     "data": {
      "text/plain": [
       "0.10469948000172735"
      ]
     },
     "execution_count": 40,
     "metadata": {},
     "output_type": "execute_result"
    }
   ],
   "source": [
    "t = timeit.Timer(timer_fun(sr_parser, test_sent_2))\n",
    "t.timeit(1000)"
   ]
  },
  {
   "cell_type": "code",
   "execution_count": 41,
   "id": "insured-express",
   "metadata": {},
   "outputs": [
    {
     "data": {
      "text/plain": [
       "0.31069795599978534"
      ]
     },
     "execution_count": 41,
     "metadata": {},
     "output_type": "execute_result"
    }
   ],
   "source": [
    "t = timeit.Timer(timer_fun(sr_parser, test_sent_3))\n",
    "t.timeit(1000)"
   ]
  },
  {
   "cell_type": "code",
   "execution_count": 42,
   "id": "regular-bosnia",
   "metadata": {},
   "outputs": [
    {
     "data": {
      "text/plain": [
       "0.2737211829989974"
      ]
     },
     "execution_count": 42,
     "metadata": {},
     "output_type": "execute_result"
    }
   ],
   "source": [
    "t = timeit.Timer(timer_fun(sr_parser, test_sent_4))\n",
    "t.timeit(1000)"
   ]
  },
  {
   "cell_type": "code",
   "execution_count": 43,
   "id": "superior-retail",
   "metadata": {},
   "outputs": [],
   "source": [
    "sr_parser = nltk.ShiftReduceParser(grammar_3)"
   ]
  },
  {
   "cell_type": "code",
   "execution_count": 44,
   "id": "adjusted-scanner",
   "metadata": {},
   "outputs": [
    {
     "data": {
      "text/plain": [
       "0.2260773939997307"
      ]
     },
     "execution_count": 44,
     "metadata": {},
     "output_type": "execute_result"
    }
   ],
   "source": [
    "t = timeit.Timer(timer_fun(sr_parser, test_sent_5))\n",
    "t.timeit(1000)"
   ]
  },
  {
   "cell_type": "code",
   "execution_count": 45,
   "id": "rising-defensive",
   "metadata": {},
   "outputs": [
    {
     "data": {
      "text/plain": [
       "0.23317354299797444"
      ]
     },
     "execution_count": 45,
     "metadata": {},
     "output_type": "execute_result"
    }
   ],
   "source": [
    "t = timeit.Timer(timer_fun(sr_parser, test_sent_6))\n",
    "t.timeit(1000)"
   ]
  },
  {
   "cell_type": "code",
   "execution_count": 46,
   "id": "filled-clinic",
   "metadata": {},
   "outputs": [
    {
     "data": {
      "text/plain": [
       "0.19641396199949668"
      ]
     },
     "execution_count": 46,
     "metadata": {},
     "output_type": "execute_result"
    }
   ],
   "source": [
    "t = timeit.Timer(timer_fun(sr_parser, test_sent_7))\n",
    "t.timeit(1000)"
   ]
  },
  {
   "cell_type": "code",
   "execution_count": 47,
   "id": "capital-mongolia",
   "metadata": {},
   "outputs": [],
   "source": [
    "sr_parser = nltk.ShiftReduceParser(grammar_4)"
   ]
  },
  {
   "cell_type": "code",
   "execution_count": 48,
   "id": "durable-arbor",
   "metadata": {},
   "outputs": [
    {
     "data": {
      "text/plain": [
       "0.31194595499982825"
      ]
     },
     "execution_count": 48,
     "metadata": {},
     "output_type": "execute_result"
    }
   ],
   "source": [
    "t = timeit.Timer(timer_fun(sr_parser, test_sent_8))\n",
    "t.timeit(1000)"
   ]
  },
  {
   "cell_type": "markdown",
   "id": "suitable-background",
   "metadata": {},
   "source": [
    "Kao što je i za očekivati, parsiranje rečenice **Recursive descent** algoritmom iziskuje više vremena nego parsiranje **Shift reduce** algoritmom. Ovo je posledica \"rekurzivne\" prirode **Recursive descent** algoritma, koji kreće od startnog simbola gramatike i proba pomoću svih zadatih smena da dođe do niza terminalnih simbola.\n",
    "Ukoliko uporedimo prosečna vremena parsiranja odgovarajućih rečenica, možemo videti da je prosečno vreme parsiranja rečenice **Recursive descent** algoritmom uvek veće od prosečnog vremena parsiranja rečenice **Shift reduce** algoritmom."
   ]
  }
 ],
 "metadata": {
  "kernelspec": {
   "display_name": "venv",
   "language": "python",
   "name": "venv"
  },
  "language_info": {
   "codemirror_mode": {
    "name": "ipython",
    "version": 3
   },
   "file_extension": ".py",
   "mimetype": "text/x-python",
   "name": "python",
   "nbconvert_exporter": "python",
   "pygments_lexer": "ipython3",
   "version": "3.9.4"
  }
 },
 "nbformat": 4,
 "nbformat_minor": 5
}
